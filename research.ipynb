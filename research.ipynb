{
 "cells": [
  {
   "cell_type": "markdown",
   "metadata": {},
   "source": [
    "# WeatherML"
   ]
  },
  {
   "cell_type": "markdown",
   "metadata": {},
   "source": [
    "## Setup Notebook"
   ]
  },
  {
   "cell_type": "markdown",
   "metadata": {},
   "source": [
    "### Import Libraries"
   ]
  },
  {
   "cell_type": "code",
   "execution_count": 114,
   "metadata": {},
   "outputs": [],
   "source": [
    "from datetime import datetime\n",
    "\n",
    "import pandas as pd\n",
    "import numpy as np\n",
    "import matplotlib.pyplot as plt\n",
    "\n",
    "from sklearn.linear_model import LinearRegression"
   ]
  },
  {
   "cell_type": "markdown",
   "metadata": {},
   "source": [
    "### Set Constants"
   ]
  },
  {
   "cell_type": "code",
   "execution_count": 115,
   "metadata": {},
   "outputs": [],
   "source": [
    "COLOR_MAPPING = {\n",
    "    'none': 'red',\n",
    "    'jacket-short': 'orange',\n",
    "    'jacket-long': 'green',\n",
    "    'coat': 'blue'\n",
    "}\n",
    "\n",
    "RANDOM_STATE = 17\n",
    "\n",
    "MONTHS = ['January', 'February', 'March', 'April', 'May', 'June', 'July',\n",
    "          'August', 'September', 'October', 'November', 'December']"
   ]
  },
  {
   "cell_type": "markdown",
   "metadata": {},
   "source": [
    "## Data Processing"
   ]
  },
  {
   "cell_type": "code",
   "execution_count": 116,
   "metadata": {},
   "outputs": [
    {
     "name": "stdout",
     "output_type": "stream",
     "text": [
      "# Records: 630\n",
      "# Features: 9\n"
     ]
    },
    {
     "data": {
      "text/html": [
       "<div>\n",
       "<style scoped>\n",
       "    .dataframe tbody tr th:only-of-type {\n",
       "        vertical-align: middle;\n",
       "    }\n",
       "\n",
       "    .dataframe tbody tr th {\n",
       "        vertical-align: top;\n",
       "    }\n",
       "\n",
       "    .dataframe thead th {\n",
       "        text-align: right;\n",
       "    }\n",
       "</style>\n",
       "<table border=\"1\" class=\"dataframe\">\n",
       "  <thead>\n",
       "    <tr style=\"text-align: right;\">\n",
       "      <th></th>\n",
       "      <th>Date</th>\n",
       "      <th>Time</th>\n",
       "      <th>Temp (°F)</th>\n",
       "      <th>Feels Like (°F)</th>\n",
       "      <th>Humidity (%)</th>\n",
       "      <th>UV</th>\n",
       "      <th>Wind (mph)</th>\n",
       "      <th>Gusts (mph)</th>\n",
       "      <th>Outer Clothing</th>\n",
       "    </tr>\n",
       "  </thead>\n",
       "  <tbody>\n",
       "    <tr>\n",
       "      <th>0</th>\n",
       "      <td>07/11/2023</td>\n",
       "      <td>13:55</td>\n",
       "      <td>80</td>\n",
       "      <td>80</td>\n",
       "      <td>44</td>\n",
       "      <td>9</td>\n",
       "      <td>4</td>\n",
       "      <td>NaN</td>\n",
       "      <td>none</td>\n",
       "    </tr>\n",
       "    <tr>\n",
       "      <th>1</th>\n",
       "      <td>07/12/2023</td>\n",
       "      <td>12:44</td>\n",
       "      <td>83</td>\n",
       "      <td>83</td>\n",
       "      <td>45</td>\n",
       "      <td>9</td>\n",
       "      <td>4</td>\n",
       "      <td>NaN</td>\n",
       "      <td>none</td>\n",
       "    </tr>\n",
       "    <tr>\n",
       "      <th>2</th>\n",
       "      <td>07/13/2023</td>\n",
       "      <td>20:15</td>\n",
       "      <td>75</td>\n",
       "      <td>78</td>\n",
       "      <td>79</td>\n",
       "      <td>0</td>\n",
       "      <td>4</td>\n",
       "      <td>NaN</td>\n",
       "      <td>none</td>\n",
       "    </tr>\n",
       "    <tr>\n",
       "      <th>3</th>\n",
       "      <td>07/17/2023</td>\n",
       "      <td>17:38</td>\n",
       "      <td>82</td>\n",
       "      <td>83</td>\n",
       "      <td>49</td>\n",
       "      <td>3</td>\n",
       "      <td>5</td>\n",
       "      <td>NaN</td>\n",
       "      <td>none</td>\n",
       "    </tr>\n",
       "    <tr>\n",
       "      <th>4</th>\n",
       "      <td>07/22/2023</td>\n",
       "      <td>18:03</td>\n",
       "      <td>75</td>\n",
       "      <td>76</td>\n",
       "      <td>58</td>\n",
       "      <td>2</td>\n",
       "      <td>4</td>\n",
       "      <td>NaN</td>\n",
       "      <td>none</td>\n",
       "    </tr>\n",
       "  </tbody>\n",
       "</table>\n",
       "</div>"
      ],
      "text/plain": [
       "         Date   Time  Temp (°F)  Feels Like (°F)  Humidity (%)  UV  \\\n",
       "0  07/11/2023  13:55         80               80            44   9   \n",
       "1  07/12/2023  12:44         83               83            45   9   \n",
       "2  07/13/2023  20:15         75               78            79   0   \n",
       "3  07/17/2023  17:38         82               83            49   3   \n",
       "4  07/22/2023  18:03         75               76            58   2   \n",
       "\n",
       "   Wind (mph)  Gusts (mph) Outer Clothing  \n",
       "0           4          NaN           none  \n",
       "1           4          NaN           none  \n",
       "2           4          NaN           none  \n",
       "3           5          NaN           none  \n",
       "4           4          NaN           none  "
      ]
     },
     "execution_count": 116,
     "metadata": {},
     "output_type": "execute_result"
    }
   ],
   "source": [
    "df = pd.read_csv('data/weather_data.csv')\n",
    "print('# Records:', df.shape[0])\n",
    "print('# Features:', df.shape[1])\n",
    "df.head()"
   ]
  },
  {
   "cell_type": "markdown",
   "metadata": {},
   "source": [
    "### Remove Label Units"
   ]
  },
  {
   "cell_type": "code",
   "execution_count": 117,
   "metadata": {},
   "outputs": [],
   "source": [
    "label_map = {\n",
    "    'Temp (°F)': 'Temp',\n",
    "    'Feels Like (°F)': 'Feels Like',\n",
    "    'Humidity (%)': 'Humidity',\n",
    "    'Wind (mph)': 'Wind',\n",
    "    'Gusts (mph)': 'Gusts',\n",
    "}\n",
    "df.rename(columns=label_map, inplace=True)"
   ]
  },
  {
   "cell_type": "markdown",
   "metadata": {},
   "source": [
    "### Date Type Cleaning"
   ]
  },
  {
   "cell_type": "code",
   "execution_count": 118,
   "metadata": {},
   "outputs": [],
   "source": [
    "# convert humidity to decimal percents\n",
    "df['Humidity'] = df['Humidity'] / 100\n",
    "\n",
    "# convert dates to datetime\n",
    "df['Date'] = pd.to_datetime(df['Date'])"
   ]
  },
  {
   "cell_type": "markdown",
   "metadata": {},
   "source": [
    "### Add Season Data"
   ]
  },
  {
   "cell_type": "code",
   "execution_count": 119,
   "metadata": {},
   "outputs": [],
   "source": [
    "def get_season(date: datetime) -> str:\n",
    "    if date.month in [12, 1, 2]:\n",
    "        return 'Winter'\n",
    "    elif date.month in [3, 4, 5]:\n",
    "        return 'Spring'\n",
    "    elif date.month in [6, 7, 8]:\n",
    "        return 'Summer'\n",
    "    elif date.month in [9, 10, 11]:\n",
    "        return 'Fall'\n",
    "\n",
    "df['Season'] = [get_season(date_str) for date_str in df['Date']]"
   ]
  },
  {
   "cell_type": "markdown",
   "metadata": {},
   "source": [
    "### Interpolate Gusts Data"
   ]
  },
  {
   "cell_type": "code",
   "execution_count": 120,
   "metadata": {},
   "outputs": [
    {
     "data": {
      "image/png": "[encoded data removed]",
      "text/plain": [
       "<Figure size 640x480 with 1 Axes>"
      ]
     },
     "metadata": {},
     "output_type": "display_data"
    }
   ],
   "source": [
    "df_gust = df.copy()\n",
    "\n",
    "# prep data\n",
    "non_missing = df_gust.dropna(subset=['Gusts'])\n",
    "missing = df_gust[df_gust['Gusts'].isnull()]\n",
    "\n",
    "X_train = non_missing[['Wind']].values\n",
    "y_train = non_missing['Gusts'].values\n",
    "\n",
    "# train model\n",
    "model = LinearRegression()\n",
    "model.fit(X_train, y_train)\n",
    "\n",
    "# plot data points & regression line\n",
    "m, b = model.coef_[0], model.intercept_\n",
    "x_line = np.linspace(df_gust['Wind'].values.min(), df_gust['Wind'].values.max())\n",
    "y_line = m * x_line + b\n",
    "df_gust.dropna().plot.scatter('Wind', 'Gusts');\n",
    "plt.plot(x_line, y_line, color='red', label='Linear Regression')\n",
    "plt.title('Wind & Gusts Relationship')\n",
    "plt.xlabel('Wind (mph)')\n",
    "plt.ylabel('Gusts (mph)')\n",
    "plt.legend();"
   ]
  },
  {
   "cell_type": "code",
   "execution_count": 121,
   "metadata": {},
   "outputs": [
    {
     "data": {
      "text/html": [
       "<div>\n",
       "<style scoped>\n",
       "    .dataframe tbody tr th:only-of-type {\n",
       "        vertical-align: middle;\n",
       "    }\n",
       "\n",
       "    .dataframe tbody tr th {\n",
       "        vertical-align: top;\n",
       "    }\n",
       "\n",
       "    .dataframe thead th {\n",
       "        text-align: right;\n",
       "    }\n",
       "</style>\n",
       "<table border=\"1\" class=\"dataframe\">\n",
       "  <thead>\n",
       "    <tr style=\"text-align: right;\">\n",
       "      <th></th>\n",
       "      <th>Date</th>\n",
       "      <th>Time</th>\n",
       "      <th>Temp</th>\n",
       "      <th>Feels Like</th>\n",
       "      <th>Humidity</th>\n",
       "      <th>UV</th>\n",
       "      <th>Wind</th>\n",
       "      <th>Gusts</th>\n",
       "      <th>Outer Clothing</th>\n",
       "      <th>Season</th>\n",
       "    </tr>\n",
       "  </thead>\n",
       "  <tbody>\n",
       "    <tr>\n",
       "      <th>0</th>\n",
       "      <td>2023-07-11</td>\n",
       "      <td>13:55</td>\n",
       "      <td>80</td>\n",
       "      <td>80</td>\n",
       "      <td>0.44</td>\n",
       "      <td>9</td>\n",
       "      <td>4</td>\n",
       "      <td>9.0</td>\n",
       "      <td>none</td>\n",
       "      <td>Summer</td>\n",
       "    </tr>\n",
       "    <tr>\n",
       "      <th>1</th>\n",
       "      <td>2023-07-12</td>\n",
       "      <td>12:44</td>\n",
       "      <td>83</td>\n",
       "      <td>83</td>\n",
       "      <td>0.45</td>\n",
       "      <td>9</td>\n",
       "      <td>4</td>\n",
       "      <td>9.0</td>\n",
       "      <td>none</td>\n",
       "      <td>Summer</td>\n",
       "    </tr>\n",
       "    <tr>\n",
       "      <th>2</th>\n",
       "      <td>2023-07-13</td>\n",
       "      <td>20:15</td>\n",
       "      <td>75</td>\n",
       "      <td>78</td>\n",
       "      <td>0.79</td>\n",
       "      <td>0</td>\n",
       "      <td>4</td>\n",
       "      <td>9.0</td>\n",
       "      <td>none</td>\n",
       "      <td>Summer</td>\n",
       "    </tr>\n",
       "    <tr>\n",
       "      <th>3</th>\n",
       "      <td>2023-07-17</td>\n",
       "      <td>17:38</td>\n",
       "      <td>82</td>\n",
       "      <td>83</td>\n",
       "      <td>0.49</td>\n",
       "      <td>3</td>\n",
       "      <td>5</td>\n",
       "      <td>11.0</td>\n",
       "      <td>none</td>\n",
       "      <td>Summer</td>\n",
       "    </tr>\n",
       "    <tr>\n",
       "      <th>4</th>\n",
       "      <td>2023-07-22</td>\n",
       "      <td>18:03</td>\n",
       "      <td>75</td>\n",
       "      <td>76</td>\n",
       "      <td>0.58</td>\n",
       "      <td>2</td>\n",
       "      <td>4</td>\n",
       "      <td>9.0</td>\n",
       "      <td>none</td>\n",
       "      <td>Summer</td>\n",
       "    </tr>\n",
       "  </tbody>\n",
       "</table>\n",
       "</div>"
      ],
      "text/plain": [
       "        Date   Time  Temp  Feels Like  Humidity  UV  Wind  Gusts  \\\n",
       "0 2023-07-11  13:55    80          80      0.44   9     4    9.0   \n",
       "1 2023-07-12  12:44    83          83      0.45   9     4    9.0   \n",
       "2 2023-07-13  20:15    75          78      0.79   0     4    9.0   \n",
       "3 2023-07-17  17:38    82          83      0.49   3     5   11.0   \n",
       "4 2023-07-22  18:03    75          76      0.58   2     4    9.0   \n",
       "\n",
       "  Outer Clothing  Season  \n",
       "0           none  Summer  \n",
       "1           none  Summer  \n",
       "2           none  Summer  \n",
       "3           none  Summer  \n",
       "4           none  Summer  "
      ]
     },
     "execution_count": 121,
     "metadata": {},
     "output_type": "execute_result"
    }
   ],
   "source": [
    "X_missing = missing[['Wind']].values\n",
    "df.loc[df['Gusts'].isnull(), 'Gusts'] = model.predict(X_missing).round()\n",
    "df.head()"
   ]
  },
  {
   "cell_type": "markdown",
   "metadata": {},
   "source": [
    "## Data Analysis & Visualizations"
   ]
  },
  {
   "cell_type": "markdown",
   "metadata": {},
   "source": [
    "### Target Class Distribution"
   ]
  },
  {
   "cell_type": "code",
   "execution_count": 122,
   "metadata": {},
   "outputs": [
    {
     "data": {
      "image/png": "[encoded data removed]",
      "text/plain": [
       "<Figure size 640x480 with 1 Axes>"
      ]
     },
     "metadata": {},
     "output_type": "display_data"
    }
   ],
   "source": [
    "label_distr = df['Outer Clothing'].value_counts().sort_index()\n",
    "colors = [COLOR_MAPPING[label] for label in label_distr.index]\n",
    "\n",
    "ax = label_distr.plot(kind='bar', color=colors)\n",
    "for i, count in enumerate(label_distr):\n",
    "    ax.text(i, count + 5, f'{label_distr.iloc[i]}', ha='center', va='center')\n",
    "\n",
    "plt.title('Target Feature Distribution')\n",
    "plt.xticks(rotation=0)\n",
    "plt.xlabel('Label')\n",
    "plt.ylabel('Count');"
   ]
  },
  {
   "cell_type": "markdown",
   "metadata": {},
   "source": [
    "### Date Distribution"
   ]
  },
  {
   "cell_type": "code",
   "execution_count": 123,
   "metadata": {},
   "outputs": [
    {
     "data": {
      "image/png": "[encoded data removed]",
      "text/plain": [
       "<Figure size 1000x600 with 1 Axes>"
      ]
     },
     "metadata": {},
     "output_type": "display_data"
    }
   ],
   "source": [
    "df_date = df[['Date', 'Outer Clothing']].copy()\n",
    "df_date['Month'] = df_date['Date'].dt.month_name()\n",
    "month_group = df_date.groupby(['Month', 'Outer Clothing']).size().reset_index(name='Count')\n",
    "pivot = month_group.pivot(index='Month', columns='Outer Clothing', values='Count')\n",
    "pivot = pivot.reindex(MONTHS)\n",
    "\n",
    "ax = pivot.plot(kind='bar', stacked=True, figsize=(10, 6), color=['blue', 'green', 'orange', 'red'])\n",
    "plt.title('# Records per Month')\n",
    "plt.xlabel('Month')\n",
    "plt.ylabel('# Records')\n",
    "plt.xticks(rotation=0, size=8)\n",
    "plt.legend(title='Clothing');"
   ]
  },
  {
   "cell_type": "markdown",
   "metadata": {},
   "source": [
    "## Machine Learning Models"
   ]
  }
 ],
 "metadata": {
  "kernelspec": {
   "display_name": "Python 3",
   "language": "python",
   "name": "python3"
  },
  "language_info": {
   "codemirror_mode": {
    "name": "ipython",
    "version": 3
   },
   "file_extension": ".py",
   "mimetype": "text/x-python",
   "name": "python",
   "nbconvert_exporter": "python",
   "pygments_lexer": "ipython3",
   "version": "3.11.6"
  }
 },
 "nbformat": 4,
 "nbformat_minor": 2
}
